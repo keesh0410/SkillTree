{
 "cells": [
  {
   "cell_type": "markdown",
   "metadata": {},
   "source": [
    "## 线性回归"
   ]
  },
  {
   "cell_type": "code",
   "execution_count": 9,
   "metadata": {},
   "outputs": [],
   "source": [
    "import numpy as np\n",
    "import pandas as pd"
   ]
  },
  {
   "cell_type": "code",
   "execution_count": 10,
   "metadata": {},
   "outputs": [],
   "source": [
    "### 初始化模型参数\n",
    "def initialize_params(dims):\n",
    "    '''\n",
    "    输入：\n",
    "    dims：训练数据变量维度\n",
    "    输出：\n",
    "    w：初始化权重参数值\n",
    "    b：初始化偏差参数值\n",
    "    '''\n",
    "    # 初始化权重参数为零矩阵\n",
    "    w = np.zeros((dims, 1))\n",
    "    # 初始化偏差参数为零\n",
    "    b = 0\n",
    "    return w, b"
   ]
  },
  {
   "cell_type": "code",
   "execution_count": 11,
   "metadata": {
    "code_folding": []
   },
   "outputs": [],
   "source": [
    "### 定义模型主体部分\n",
    "### 包括线性回归公式、均方损失和参数偏导三部分\n",
    "def linear_loss(X, y, w, b):\n",
    "    '''\n",
    "    输入:\n",
    "    X：输入变量矩阵\n",
    "    y：输出标签向量\n",
    "    w：变量参数权重矩阵\n",
    "    b：偏差项\n",
    "    输出：\n",
    "    y_hat：线性模型预测输出\n",
    "    loss：均方损失值\n",
    "    dw：权重参数一阶偏导\n",
    "    db：偏差项一阶偏导\n",
    "    '''\n",
    "    # 训练样本数量\n",
    "    num_train = X.shape[0]\n",
    "    # 训练特征数量\n",
    "    num_feature = X.shape[1]\n",
    "    # 线性回归预测输出\n",
    "    y_hat = np.dot(X, w) + b\n",
    "    # 计算预测输出与实际标签之间的均方损失\n",
    "    loss = np.sum((y_hat-y)**2)/num_train\n",
    "    # 基于均方损失对权重参数的一阶偏导数\n",
    "    dw = np.dot(X.T, (y_hat-y)) /num_train\n",
    "    # 基于均方损失对偏差项的一阶偏导数\n",
    "    db = np.sum((y_hat-y)) /num_train\n",
    "    return y_hat, loss, dw, db"
   ]
  },
  {
   "cell_type": "code",
   "execution_count": 12,
   "metadata": {},
   "outputs": [],
   "source": [
    "### 定义线性回归模型训练过程\n",
    "def linear_train(X, y, learning_rate=0.01, epochs=10000):\n",
    "    '''\n",
    "    输入：\n",
    "    X：输入变量矩阵\n",
    "    y：输出标签向量\n",
    "    learning_rate：学习率\n",
    "    epochs：训练迭代次数\n",
    "    输出：\n",
    "    loss_his：每次迭代的均方损失\n",
    "    params：优化后的参数字典\n",
    "    grads：优化后的参数梯度字典\n",
    "    '''\n",
    "    # 记录训练损失的空列表\n",
    "    loss_his = []\n",
    "    # 初始化模型参数\n",
    "    w, b = initialize_params(X.shape[1])\n",
    "    # 迭代训练\n",
    "    for i in range(1, epochs):\n",
    "        # 计算当前迭代的预测值、损失和梯度\n",
    "        y_hat, loss, dw, db = linear_loss(X, y, w, b)\n",
    "        # 基于梯度下降的参数更新\n",
    "        w += -learning_rate * dw\n",
    "        b += -learning_rate * db\n",
    "        # 记录当前迭代的损失\n",
    "        loss_his.append(loss)\n",
    "        # 每1000次迭代打印当前损失信息\n",
    "        if i % 10000 == 0:\n",
    "            print('epoch %d loss %f' % (i, loss))\n",
    "        # 将当前迭代步优化后的参数保存到字典\n",
    "        params = {\n",
    "            'w': w,\n",
    "            'b': b\n",
    "        }\n",
    "        # 将当前迭代步的梯度保存到字典\n",
    "        grads = {\n",
    "            'dw': dw,\n",
    "            'db': db\n",
    "        }     \n",
    "    return loss_his, params, grads"
   ]
  },
  {
   "cell_type": "code",
   "execution_count": 13,
   "metadata": {},
   "outputs": [
    {
     "data": {
      "text/plain": [
       "(353, 10)"
      ]
     },
     "execution_count": 13,
     "metadata": {},
     "output_type": "execute_result"
    }
   ],
   "source": [
    "X = np.ones(shape=(353,10))\n",
    "X.shape"
   ]
  },
  {
   "cell_type": "code",
   "execution_count": 14,
   "metadata": {},
   "outputs": [
    {
     "data": {
      "text/plain": [
       "(10, 1)"
      ]
     },
     "execution_count": 14,
     "metadata": {},
     "output_type": "execute_result"
    }
   ],
   "source": [
    "w, b = initialize_params(X.shape[1])\n",
    "w.shape"
   ]
  },
  {
   "cell_type": "code",
   "execution_count": 15,
   "metadata": {},
   "outputs": [
    {
     "data": {
      "text/plain": [
       "(353,)"
      ]
     },
     "execution_count": 15,
     "metadata": {},
     "output_type": "execute_result"
    }
   ],
   "source": [
    "y=np.ones(shape=(353,))\n",
    "y.shape"
   ]
  },
  {
   "cell_type": "code",
   "execution_count": 16,
   "metadata": {},
   "outputs": [
    {
     "name": "stdout",
     "output_type": "stream",
     "text": [
      "(442, 10)\n",
      "(442,)\n",
      "[[ 0.03807591  0.05068012  0.06169621  0.02187235 -0.0442235  -0.03482076\n",
      "  -0.04340085 -0.00259226  0.01990842 -0.01764613]\n",
      " [-0.00188202 -0.04464164 -0.05147406 -0.02632783 -0.00844872 -0.01916334\n",
      "   0.07441156 -0.03949338 -0.06832974 -0.09220405]\n",
      " [ 0.08529891  0.05068012  0.04445121 -0.00567061 -0.04559945 -0.03419447\n",
      "  -0.03235593 -0.00259226  0.00286377 -0.02593034]\n",
      " [-0.08906294 -0.04464164 -0.01159501 -0.03665645  0.01219057  0.02499059\n",
      "  -0.03603757  0.03430886  0.02269202 -0.00936191]\n",
      " [ 0.00538306 -0.04464164 -0.03638469  0.02187235  0.00393485  0.01559614\n",
      "   0.00814208 -0.00259226 -0.03199144 -0.04664087]]\n",
      "[151.  75. 141. 206. 135.]\n"
     ]
    }
   ],
   "source": [
    "from sklearn.datasets import load_diabetes\n",
    "diabetes = load_diabetes()\n",
    "data = diabetes.data\n",
    "target = diabetes.target \n",
    "print(data.shape)\n",
    "print(target.shape)\n",
    "print(data[:5])\n",
    "print(target[:5])"
   ]
  },
  {
   "cell_type": "code",
   "execution_count": 17,
   "metadata": {},
   "outputs": [
    {
     "name": "stdout",
     "output_type": "stream",
     "text": [
      "X_train's shape:  (353, 10)\n",
      "X_test's shape:  (89, 10)\n",
      "y_train's shape:  (353, 1)\n",
      "y_test's shape:  (89, 1)\n"
     ]
    }
   ],
   "source": [
    "# 导入sklearn diabetes数据接口\n",
    "from sklearn.datasets import load_diabetes\n",
    "# 导入sklearn打乱数据函数\n",
    "from sklearn.utils import shuffle\n",
    "# 获取diabetes数据集\n",
    "diabetes = load_diabetes()\n",
    "# 获取输入和标签\n",
    "data, target = diabetes.data, diabetes.target \n",
    "# 打乱数据集\n",
    "X, y = shuffle(data, target, random_state=13)\n",
    "# 按照8/2划分训练集和测试集\n",
    "offset = int(X.shape[0] * 0.8)\n",
    "# 训练集\n",
    "X_train, y_train = X[:offset], y[:offset]\n",
    "# 测试集\n",
    "X_test, y_test = X[offset:], y[offset:]\n",
    "# 将训练集改为列向量的形式\n",
    "y_train = y_train.reshape((-1,1))\n",
    "# 将验证集改为列向量的形式\n",
    "y_test = y_test.reshape((-1,1))\n",
    "# 打印训练集和测试集维度\n",
    "print(\"X_train's shape: \", X_train.shape)\n",
    "print(\"X_test's shape: \", X_test.shape)\n",
    "print(\"y_train's shape: \", y_train.shape)\n",
    "print(\"y_test's shape: \", y_test.shape)"
   ]
  },
  {
   "cell_type": "code",
   "execution_count": 18,
   "metadata": {},
   "outputs": [
    {
     "name": "stdout",
     "output_type": "stream",
     "text": [
      "epoch 10000 loss 3679.868273\n",
      "epoch 20000 loss 3219.164522\n",
      "epoch 30000 loss 3040.820279\n",
      "epoch 40000 loss 2944.936608\n",
      "epoch 50000 loss 2885.991571\n",
      "epoch 60000 loss 2848.051813\n",
      "epoch 70000 loss 2823.157085\n",
      "epoch 80000 loss 2806.627821\n",
      "epoch 90000 loss 2795.546917\n",
      "epoch 100000 loss 2788.051561\n",
      "epoch 110000 loss 2782.935842\n",
      "epoch 120000 loss 2779.411265\n",
      "epoch 130000 loss 2776.957989\n",
      "epoch 140000 loss 2775.230803\n",
      "epoch 150000 loss 2773.998942\n",
      "epoch 160000 loss 2773.107192\n",
      "epoch 170000 loss 2772.450534\n",
      "epoch 180000 loss 2771.957489\n",
      "epoch 190000 loss 2771.579121\n",
      "{'w': array([[  10.56390075],\n",
      "       [-236.41625133],\n",
      "       [ 481.50915635],\n",
      "       [ 294.47043558],\n",
      "       [ -60.99362023],\n",
      "       [-110.54181897],\n",
      "       [-206.44046579],\n",
      "       [ 163.23511378],\n",
      "       [ 409.28971463],\n",
      "       [  65.73254667]]), 'b': 150.8144748910088}\n"
     ]
    }
   ],
   "source": [
    "# 线性回归模型训练\n",
    "loss_his, params, grads = linear_train(X_train, y_train, 0.01, 200000)\n",
    "# 打印训练后得到模型参数\n",
    "print(params)"
   ]
  },
  {
   "cell_type": "code",
   "execution_count": 19,
   "metadata": {},
   "outputs": [
    {
     "data": {
      "text/plain": [
       "array([[ 82.0537503 ],\n",
       "       [167.22420149],\n",
       "       [112.38335719],\n",
       "       [138.15504748],\n",
       "       [174.71840809]])"
      ]
     },
     "execution_count": 19,
     "metadata": {},
     "output_type": "execute_result"
    }
   ],
   "source": [
    "### 定义线性回归预测函数\n",
    "def predict(X, params):\n",
    "    '''\n",
    "    输入：\n",
    "    X：测试数据集\n",
    "    params：模型训练参数\n",
    "    输出：\n",
    "    y_pred：模型预测结果\n",
    "    '''\n",
    "    # 获取模型参数\n",
    "    w = params['w']\n",
    "    b = params['b']\n",
    "    # 预测\n",
    "    y_pred = np.dot(X, w) + b\n",
    "    return y_pred\n",
    "# 基于测试集的预测\n",
    "y_pred = predict(X_test, params)\n",
    "# 打印前五个预测值\n",
    "y_pred[:5]"
   ]
  },
  {
   "cell_type": "code",
   "execution_count": 20,
   "metadata": {},
   "outputs": [
    {
     "name": "stdout",
     "output_type": "stream",
     "text": [
      "[[ 37.]\n",
      " [122.]\n",
      " [ 88.]\n",
      " [214.]\n",
      " [262.]]\n"
     ]
    }
   ],
   "source": [
    "print(y_test[:5])"
   ]
  },
  {
   "cell_type": "code",
   "execution_count": 21,
   "metadata": {},
   "outputs": [],
   "source": [
    "### 定义R2系数函数\n",
    "def r2_score(y_test, y_pred):\n",
    "    '''\n",
    "    输入：\n",
    "    y_test：测试集标签值\n",
    "    y_pred：测试集预测值\n",
    "    输出：\n",
    "    r2：R2系数\n",
    "    '''\n",
    "    # 测试标签均值\n",
    "    y_avg = np.mean(y_test)\n",
    "    # 总离差平方和\n",
    "    ss_tot = np.sum((y_test - y_avg)**2)\n",
    "    # 残差平方和\n",
    "    ss_res = np.sum((y_test - y_pred)**2)\n",
    "    # R2计算\n",
    "    r2 = 1 - (ss_res/ss_tot)\n",
    "    return r2"
   ]
  },
  {
   "cell_type": "code",
   "execution_count": 22,
   "metadata": {},
   "outputs": [
    {
     "name": "stdout",
     "output_type": "stream",
     "text": [
      "0.5334188457463577\n"
     ]
    }
   ],
   "source": [
    "print(r2_score(y_test, y_pred))"
   ]
  },
  {
   "cell_type": "code",
   "execution_count": 23,
   "metadata": {},
   "outputs": [
    {
     "data": {
      "image/png": "[encoded data removed]",
      "text/plain": [
       "<Figure size 432x288 with 1 Axes>"
      ]
     },
     "metadata": {
      "needs_background": "light"
     },
     "output_type": "display_data"
    }
   ],
   "source": [
    "import matplotlib.pyplot as plt\n",
    "f = X_test.dot(params['w']) + params['b']\n",
    "\n",
    "plt.scatter(range(X_test.shape[0]), y_test)\n",
    "plt.plot(f, color = 'darkorange')\n",
    "plt.xlabel('X_test')\n",
    "plt.ylabel('y_test')\n",
    "plt.show();"
   ]
  },
  {
   "cell_type": "code",
   "execution_count": 24,
   "metadata": {},
   "outputs": [
    {
     "data": {
      "image/png": "[encoded data removed]",
      "text/plain": [
       "<Figure size 432x288 with 1 Axes>"
      ]
     },
     "metadata": {
      "needs_background": "light"
     },
     "output_type": "display_data"
    }
   ],
   "source": [
    "plt.plot(loss_his, color = 'blue')\n",
    "plt.xlabel('epochs')\n",
    "plt.ylabel('loss')\n",
    "plt.show()"
   ]
  },
  {
   "cell_type": "code",
   "execution_count": 25,
   "metadata": {},
   "outputs": [
    {
     "data": {
      "text/plain": [
       "(442, 11)"
      ]
     },
     "execution_count": 25,
     "metadata": {},
     "output_type": "execute_result"
    }
   ],
   "source": [
    "from sklearn.utils import shuffle\n",
    "X, y = shuffle(data, target, random_state=13)\n",
    "X = X.astype(np.float32)\n",
    "data = np.concatenate((X, y.reshape((-1,1))), axis=1)\n",
    "data.shape"
   ]
  },
  {
   "cell_type": "code",
   "execution_count": 27,
   "metadata": {},
   "outputs": [
    {
     "name": "stdout",
     "output_type": "stream",
     "text": [
      "epoch 10000 loss 5691.020878\n",
      "epoch 20000 loss 5348.335014\n",
      "epoch 30000 loss 5057.483172\n",
      "epoch 40000 loss 4809.887762\n",
      "epoch 50000 loss 4598.431321\n",
      "epoch 60000 loss 4417.205780\n",
      "epoch 70000 loss 4261.304941\n",
      "epoch 80000 loss 4126.652666\n",
      "epoch 90000 loss 4009.860637\n",
      "five kold cross validation score is 4846.591085182258\n",
      "valid score is 3778.803258768074\n",
      "epoch 10000 loss 5282.139068\n",
      "epoch 20000 loss 5012.692214\n",
      "epoch 30000 loss 4780.800660\n",
      "epoch 40000 loss 4580.708131\n",
      "epoch 50000 loss 4407.569874\n",
      "epoch 60000 loss 4257.306699\n",
      "epoch 70000 loss 4126.482511\n",
      "epoch 80000 loss 4012.201515\n",
      "epoch 90000 loss 3912.021932\n",
      "five kold cross validation score is 4622.954950545252\n",
      "valid score is 4753.46891405462\n",
      "epoch 10000 loss 5640.394829\n",
      "epoch 20000 loss 5305.537053\n",
      "epoch 30000 loss 5020.762639\n",
      "epoch 40000 loss 4777.971744\n",
      "epoch 50000 loss 4570.405124\n",
      "epoch 60000 loss 4392.420727\n",
      "epoch 70000 loss 4239.307624\n",
      "epoch 80000 loss 4107.131004\n",
      "epoch 90000 loss 3992.603032\n",
      "five kold cross validation score is 4810.225325366101\n",
      "valid score is 3946.527748745793\n",
      "epoch 10000 loss 5633.617842\n",
      "epoch 20000 loss 5330.573826\n",
      "epoch 30000 loss 5071.399255\n",
      "epoch 40000 loss 4849.128993\n",
      "epoch 50000 loss 4657.935846\n",
      "epoch 60000 loss 4492.943015\n",
      "epoch 70000 loss 4350.067583\n",
      "epoch 80000 loss 4225.889850\n",
      "epoch 90000 loss 4117.544239\n",
      "five kold cross validation score is 4886.416952390444\n",
      "valid score is 3626.3111869073064\n",
      "epoch 10000 loss 5581.581786\n",
      "epoch 20000 loss 5288.687061\n",
      "epoch 30000 loss 5037.833139\n",
      "epoch 40000 loss 4822.336343\n",
      "epoch 50000 loss 4636.611397\n",
      "epoch 60000 loss 4475.989026\n",
      "epoch 70000 loss 4336.563969\n",
      "epoch 80000 loss 4215.068309\n",
      "epoch 90000 loss 4108.765883\n",
      "five kold cross validation score is 4862.41798136116\n",
      "valid score is 3753.0781481163667\n"
     ]
    }
   ],
   "source": [
    "from random import shuffle\n",
    "\n",
    "def k_fold_cross_validation(items, k, randomize=True):\n",
    "    if randomize:\n",
    "        items = list(items)\n",
    "        shuffle(items)\n",
    "\n",
    "    slices = [items[i::k] for i in range(k)]\n",
    "\n",
    "    for i in range(k):\n",
    "        validation = slices[i]\n",
    "        training = [item\n",
    "                    for s in slices if s is not validation\n",
    "                    for item in s]\n",
    "        training = np.array(training)\n",
    "        validation = np.array(validation)\n",
    "        yield training, validation\n",
    "\n",
    "\n",
    "for training, validation in k_fold_cross_validation(data, 5): \n",
    "    X_train = training[:, :10]\n",
    "    y_train = training[:, -1].reshape((-1,1))\n",
    "    X_valid = validation[:, :10]\n",
    "    y_valid = validation[:, -1].reshape((-1,1))\n",
    "    loss5 = []\n",
    "    #print(X_train.shape, y_train.shape, X_valid.shape, y_valid.shape)\n",
    "    loss, params, grads = linear_train(X_train, y_train, 0.001, 100000)\n",
    "    loss5.append(loss)\n",
    "    score = np.mean(loss5)\n",
    "    print('five kold cross validation score is', score)\n",
    "    y_pred = predict(X_valid, params)\n",
    "    valid_score = np.sum(((y_pred-y_valid)**2))/len(X_valid)\n",
    "    print('valid score is', valid_score)"
   ]
  },
  {
   "cell_type": "code",
   "execution_count": 28,
   "metadata": {},
   "outputs": [
    {
     "name": "stdout",
     "output_type": "stream",
     "text": [
      "(353, 10) (353, 1) (89, 10) (89, 1)\n"
     ]
    }
   ],
   "source": [
    "from sklearn.datasets import load_diabetes\n",
    "from sklearn.utils import shuffle\n",
    "from sklearn.model_selection import train_test_split\n",
    "\n",
    "diabetes = load_diabetes()\n",
    "data = diabetes.data\n",
    "target = diabetes.target \n",
    "X, y = shuffle(data, target, random_state=13)\n",
    "X = X.astype(np.float32)\n",
    "y = y.reshape((-1, 1))\n",
    "X_train, X_test, y_train, y_test = train_test_split(X, y, test_size=0.2, random_state=42)\n",
    "print(X_train.shape, y_train.shape, X_test.shape, y_test.shape)"
   ]
  },
  {
   "cell_type": "code",
   "execution_count": 29,
   "metadata": {},
   "outputs": [
    {
     "name": "stdout",
     "output_type": "stream",
     "text": [
      "Coefficients: \n",
      " [[ -23.510529 -216.31224   472.36664   372.07184  -863.6953    583.27313\n",
      "   105.79194   194.76958   754.0722     38.22219 ]]\n",
      "Mean squared error: 3028.50\n",
      "Variance score: 0.53\n",
      "0.5298198665264144\n"
     ]
    },
    {
     "data": {
      "image/png": "[encoded data removed]",
      "text/plain": [
       "<Figure size 432x288 with 1 Axes>"
      ]
     },
     "metadata": {},
     "output_type": "display_data"
    }
   ],
   "source": [
    "import matplotlib.pyplot as plt\n",
    "import numpy as np\n",
    "from sklearn import linear_model\n",
    "from sklearn.metrics import mean_squared_error, r2_score\n",
    "\n",
    "\n",
    "regr = linear_model.LinearRegression()\n",
    "regr.fit(X_train, y_train)\n",
    "\n",
    "y_pred = regr.predict(X_test)\n",
    "\n",
    "# The coefficients\n",
    "print('Coefficients: \\n', regr.coef_)\n",
    "# The mean squared error\n",
    "print(\"Mean squared error: %.2f\"\n",
    "      % mean_squared_error(y_test, y_pred))\n",
    "# Explained variance score: 1 is perfect prediction\n",
    "print('Variance score: %.2f' % r2_score(y_test, y_pred))\n",
    "print(r2_score(y_test, y_pred))\n",
    "\n",
    "# Plot outputs\n",
    "plt.scatter(range(X_test.shape[0]), y_test, color='red')\n",
    "plt.plot(range(X_test.shape[0]), y_pred, color='blue', linewidth=3)\n",
    "\n",
    "plt.xticks(())\n",
    "plt.yticks(())\n",
    "\n",
    "plt.show();"
   ]
  },
  {
   "cell_type": "code",
   "execution_count": 30,
   "metadata": {},
   "outputs": [
    {
     "name": "stdout",
     "output_type": "stream",
     "text": [
      "Cross Validating - Run 1 out of 5\n"
     ]
    },
    {
     "ename": "ValueError",
     "evalue": "Setting a random_state has no effect since shuffle is False. You should leave random_state to its default (None), or set shuffle=True.",
     "output_type": "error",
     "traceback": [
      "\u001b[0;31m---------------------------------------------------------------------------\u001b[0m",
      "\u001b[0;31mValueError\u001b[0m                                Traceback (most recent call last)",
      "\u001b[0;32m/var/folders/_d/6bxrxqz11qbf6zbwg4sb7f700000gn/T/ipykernel_17694/1363286040.py\u001b[0m in \u001b[0;36m<module>\u001b[0;34m\u001b[0m\n\u001b[1;32m     29\u001b[0m     \u001b[0;32mpass\u001b[0m\u001b[0;34m\u001b[0m\u001b[0;34m\u001b[0m\u001b[0m\n\u001b[1;32m     30\u001b[0m \u001b[0;34m\u001b[0m\u001b[0m\n\u001b[0;32m---> 31\u001b[0;31m \u001b[0mcross_validate\u001b[0m\u001b[0;34m(\u001b[0m\u001b[0mregr\u001b[0m\u001b[0;34m,\u001b[0m \u001b[0mX\u001b[0m\u001b[0;34m,\u001b[0m \u001b[0my\u001b[0m\u001b[0;34m,\u001b[0m \u001b[0mfolds\u001b[0m\u001b[0;34m=\u001b[0m\u001b[0;36m5\u001b[0m\u001b[0;34m,\u001b[0m \u001b[0mrepeats\u001b[0m\u001b[0;34m=\u001b[0m\u001b[0;36m5\u001b[0m\u001b[0;34m)\u001b[0m\u001b[0;34m\u001b[0m\u001b[0;34m\u001b[0m\u001b[0m\n\u001b[0m",
      "\u001b[0;32m/var/folders/_d/6bxrxqz11qbf6zbwg4sb7f700000gn/T/ipykernel_17694/1363286040.py\u001b[0m in \u001b[0;36mcross_validate\u001b[0;34m(model, x, y, folds, repeats)\u001b[0m\n\u001b[1;32m     14\u001b[0m         \u001b[0mprint\u001b[0m\u001b[0;34m(\u001b[0m\u001b[0;34m'Cross Validating - Run'\u001b[0m\u001b[0;34m,\u001b[0m \u001b[0mstr\u001b[0m\u001b[0;34m(\u001b[0m\u001b[0mr\u001b[0m \u001b[0;34m+\u001b[0m \u001b[0;36m1\u001b[0m\u001b[0;34m)\u001b[0m\u001b[0;34m,\u001b[0m \u001b[0;34m'out of'\u001b[0m\u001b[0;34m,\u001b[0m \u001b[0mstr\u001b[0m\u001b[0;34m(\u001b[0m\u001b[0mrepeats\u001b[0m\u001b[0;34m)\u001b[0m\u001b[0;34m)\u001b[0m\u001b[0;34m\u001b[0m\u001b[0;34m\u001b[0m\u001b[0m\n\u001b[1;32m     15\u001b[0m         \u001b[0mx\u001b[0m\u001b[0;34m,\u001b[0m\u001b[0my\u001b[0m \u001b[0;34m=\u001b[0m \u001b[0mshuffle\u001b[0m\u001b[0;34m(\u001b[0m\u001b[0mx\u001b[0m\u001b[0;34m,\u001b[0m \u001b[0my\u001b[0m\u001b[0;34m,\u001b[0m \u001b[0mrandom_state\u001b[0m\u001b[0;34m=\u001b[0m\u001b[0mr\u001b[0m\u001b[0;34m)\u001b[0m \u001b[0;31m#shuffle data before each repeat\u001b[0m\u001b[0;34m\u001b[0m\u001b[0;34m\u001b[0m\u001b[0m\n\u001b[0;32m---> 16\u001b[0;31m         \u001b[0mkf\u001b[0m \u001b[0;34m=\u001b[0m \u001b[0mKFold\u001b[0m\u001b[0;34m(\u001b[0m\u001b[0mn_splits\u001b[0m\u001b[0;34m=\u001b[0m\u001b[0mfolds\u001b[0m\u001b[0;34m,\u001b[0m\u001b[0mrandom_state\u001b[0m\u001b[0;34m=\u001b[0m\u001b[0mi\u001b[0m\u001b[0;34m+\u001b[0m\u001b[0;36m1000\u001b[0m\u001b[0;34m)\u001b[0m \u001b[0;31m#random split, different each time\u001b[0m\u001b[0;34m\u001b[0m\u001b[0;34m\u001b[0m\u001b[0m\n\u001b[0m\u001b[1;32m     17\u001b[0m         \u001b[0;32mfor\u001b[0m \u001b[0mtrain_ind\u001b[0m\u001b[0;34m,\u001b[0m \u001b[0mtest_ind\u001b[0m \u001b[0;32min\u001b[0m \u001b[0mkf\u001b[0m\u001b[0;34m.\u001b[0m\u001b[0msplit\u001b[0m\u001b[0;34m(\u001b[0m\u001b[0mx\u001b[0m\u001b[0;34m)\u001b[0m\u001b[0;34m:\u001b[0m\u001b[0;34m\u001b[0m\u001b[0;34m\u001b[0m\u001b[0m\n\u001b[1;32m     18\u001b[0m             \u001b[0mprint\u001b[0m\u001b[0;34m(\u001b[0m\u001b[0;34m'Fold'\u001b[0m\u001b[0;34m,\u001b[0m \u001b[0mi\u001b[0m\u001b[0;34m+\u001b[0m\u001b[0;36m1\u001b[0m\u001b[0;34m,\u001b[0m \u001b[0;34m'out of'\u001b[0m\u001b[0;34m,\u001b[0m \u001b[0mfolds\u001b[0m\u001b[0;34m)\u001b[0m\u001b[0;34m\u001b[0m\u001b[0;34m\u001b[0m\u001b[0m\n",
      "\u001b[0;32m~/miniconda3/lib/python3.9/site-packages/sklearn/utils/validation.py\u001b[0m in \u001b[0;36minner_f\u001b[0;34m(*args, **kwargs)\u001b[0m\n\u001b[1;32m     61\u001b[0m             \u001b[0mextra_args\u001b[0m \u001b[0;34m=\u001b[0m \u001b[0mlen\u001b[0m\u001b[0;34m(\u001b[0m\u001b[0margs\u001b[0m\u001b[0;34m)\u001b[0m \u001b[0;34m-\u001b[0m \u001b[0mlen\u001b[0m\u001b[0;34m(\u001b[0m\u001b[0mall_args\u001b[0m\u001b[0;34m)\u001b[0m\u001b[0;34m\u001b[0m\u001b[0;34m\u001b[0m\u001b[0m\n\u001b[1;32m     62\u001b[0m             \u001b[0;32mif\u001b[0m \u001b[0mextra_args\u001b[0m \u001b[0;34m<=\u001b[0m \u001b[0;36m0\u001b[0m\u001b[0;34m:\u001b[0m\u001b[0;34m\u001b[0m\u001b[0;34m\u001b[0m\u001b[0m\n\u001b[0;32m---> 63\u001b[0;31m                 \u001b[0;32mreturn\u001b[0m \u001b[0mf\u001b[0m\u001b[0;34m(\u001b[0m\u001b[0;34m*\u001b[0m\u001b[0margs\u001b[0m\u001b[0;34m,\u001b[0m \u001b[0;34m**\u001b[0m\u001b[0mkwargs\u001b[0m\u001b[0;34m)\u001b[0m\u001b[0;34m\u001b[0m\u001b[0;34m\u001b[0m\u001b[0m\n\u001b[0m\u001b[1;32m     64\u001b[0m \u001b[0;34m\u001b[0m\u001b[0m\n\u001b[1;32m     65\u001b[0m             \u001b[0;31m# extra_args > 0\u001b[0m\u001b[0;34m\u001b[0m\u001b[0;34m\u001b[0m\u001b[0;34m\u001b[0m\u001b[0m\n",
      "\u001b[0;32m~/miniconda3/lib/python3.9/site-packages/sklearn/model_selection/_split.py\u001b[0m in \u001b[0;36m__init__\u001b[0;34m(self, n_splits, shuffle, random_state)\u001b[0m\n\u001b[1;32m    426\u001b[0m     def __init__(self, n_splits=5, *, shuffle=False,\n\u001b[1;32m    427\u001b[0m                  random_state=None):\n\u001b[0;32m--> 428\u001b[0;31m         super().__init__(n_splits=n_splits, shuffle=shuffle,\n\u001b[0m\u001b[1;32m    429\u001b[0m                          random_state=random_state)\n\u001b[1;32m    430\u001b[0m \u001b[0;34m\u001b[0m\u001b[0m\n",
      "\u001b[0;32m~/miniconda3/lib/python3.9/site-packages/sklearn/utils/validation.py\u001b[0m in \u001b[0;36minner_f\u001b[0;34m(*args, **kwargs)\u001b[0m\n\u001b[1;32m     61\u001b[0m             \u001b[0mextra_args\u001b[0m \u001b[0;34m=\u001b[0m \u001b[0mlen\u001b[0m\u001b[0;34m(\u001b[0m\u001b[0margs\u001b[0m\u001b[0;34m)\u001b[0m \u001b[0;34m-\u001b[0m \u001b[0mlen\u001b[0m\u001b[0;34m(\u001b[0m\u001b[0mall_args\u001b[0m\u001b[0;34m)\u001b[0m\u001b[0;34m\u001b[0m\u001b[0;34m\u001b[0m\u001b[0m\n\u001b[1;32m     62\u001b[0m             \u001b[0;32mif\u001b[0m \u001b[0mextra_args\u001b[0m \u001b[0;34m<=\u001b[0m \u001b[0;36m0\u001b[0m\u001b[0;34m:\u001b[0m\u001b[0;34m\u001b[0m\u001b[0;34m\u001b[0m\u001b[0m\n\u001b[0;32m---> 63\u001b[0;31m                 \u001b[0;32mreturn\u001b[0m \u001b[0mf\u001b[0m\u001b[0;34m(\u001b[0m\u001b[0;34m*\u001b[0m\u001b[0margs\u001b[0m\u001b[0;34m,\u001b[0m \u001b[0;34m**\u001b[0m\u001b[0mkwargs\u001b[0m\u001b[0;34m)\u001b[0m\u001b[0;34m\u001b[0m\u001b[0;34m\u001b[0m\u001b[0m\n\u001b[0m\u001b[1;32m     64\u001b[0m \u001b[0;34m\u001b[0m\u001b[0m\n\u001b[1;32m     65\u001b[0m             \u001b[0;31m# extra_args > 0\u001b[0m\u001b[0;34m\u001b[0m\u001b[0;34m\u001b[0m\u001b[0;34m\u001b[0m\u001b[0m\n",
      "\u001b[0;32m~/miniconda3/lib/python3.9/site-packages/sklearn/model_selection/_split.py\u001b[0m in \u001b[0;36m__init__\u001b[0;34m(self, n_splits, shuffle, random_state)\u001b[0m\n\u001b[1;32m    288\u001b[0m \u001b[0;34m\u001b[0m\u001b[0m\n\u001b[1;32m    289\u001b[0m         \u001b[0;32mif\u001b[0m \u001b[0;32mnot\u001b[0m \u001b[0mshuffle\u001b[0m \u001b[0;32mand\u001b[0m \u001b[0mrandom_state\u001b[0m \u001b[0;32mis\u001b[0m \u001b[0;32mnot\u001b[0m \u001b[0;32mNone\u001b[0m\u001b[0;34m:\u001b[0m  \u001b[0;31m# None is the default\u001b[0m\u001b[0;34m\u001b[0m\u001b[0;34m\u001b[0m\u001b[0m\n\u001b[0;32m--> 290\u001b[0;31m             raise ValueError(\n\u001b[0m\u001b[1;32m    291\u001b[0m                 \u001b[0;34m'Setting a random_state has no effect since shuffle is '\u001b[0m\u001b[0;34m\u001b[0m\u001b[0;34m\u001b[0m\u001b[0m\n\u001b[1;32m    292\u001b[0m                 \u001b[0;34m'False. You should leave '\u001b[0m\u001b[0;34m\u001b[0m\u001b[0;34m\u001b[0m\u001b[0m\n",
      "\u001b[0;31mValueError\u001b[0m: Setting a random_state has no effect since shuffle is False. You should leave random_state to its default (None), or set shuffle=True."
     ]
    }
   ],
   "source": [
    "import numpy as np \n",
    "import pandas as pd \n",
    "from sklearn.utils import shuffle\n",
    "from sklearn.model_selection import KFold\n",
    "from sklearn.linear_model import LinearRegression\n",
    "\n",
    "### 交叉验证\n",
    "def cross_validate(model, x, y, folds=5, repeats=5):\n",
    "    \n",
    "    ypred = np.zeros((len(y),repeats))\n",
    "    score = np.zeros(repeats)\n",
    "    for r in range(repeats):\n",
    "        i=0\n",
    "        print('Cross Validating - Run', str(r + 1), 'out of', str(repeats))\n",
    "        x,y = shuffle(x, y, random_state=r) #shuffle data before each repeat\n",
    "        kf = KFold(n_splits=folds,random_state=i+1000) #random split, different each time\n",
    "        for train_ind, test_ind in kf.split(x):\n",
    "            print('Fold', i+1, 'out of', folds)\n",
    "            xtrain,ytrain = x[train_ind,:],y[train_ind]\n",
    "            xtest,ytest = x[test_ind,:],y[test_ind]\n",
    "            model.fit(xtrain, ytrain)\n",
    "            #print(xtrain.shape, ytrain.shape, xtest.shape, ytest.shape)\n",
    "            ypred[test_ind]=model.predict(xtest)\n",
    "            i+=1\n",
    "        score[r] = R2(ypred[:,r],y)\n",
    "    print('\\nOverall R2:',str(score))\n",
    "    print('Mean:',str(np.mean(score)))\n",
    "    print('Deviation:',str(np.std(score)))\n",
    "    pass\n",
    "\n",
    "cross_validate(regr, X, y, folds=5, repeats=5)"
   ]
  },
  {
   "cell_type": "code",
   "execution_count": null,
   "metadata": {},
   "outputs": [],
   "source": []
  }
 ],
 "metadata": {
  "kernelspec": {
   "display_name": "Python 3",
   "language": "python",
   "name": "python3"
  },
  "language_info": {
   "codemirror_mode": {
    "name": "ipython",
    "version": 3
   },
   "file_extension": ".py",
   "mimetype": "text/x-python",
   "name": "python",
   "nbconvert_exporter": "python",
   "pygments_lexer": "ipython3",
   "version": "3.9.6"
  },
  "toc": {
   "base_numbering": 1,
   "nav_menu": {},
   "number_sections": true,
   "sideBar": true,
   "skip_h1_title": false,
   "title_cell": "Table of Contents",
   "title_sidebar": "Contents",
   "toc_cell": false,
   "toc_position": {},
   "toc_section_display": true,
   "toc_window_display": false
  }
 },
 "nbformat": 4,
 "nbformat_minor": 2
}
